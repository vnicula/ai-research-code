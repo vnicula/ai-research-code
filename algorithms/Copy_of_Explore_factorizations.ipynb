{
  "cells": [
    {
      "cell_type": "markdown",
      "metadata": {
        "id": "view-in-github",
        "colab_type": "text"
      },
      "source": [
        "<a href=\"https://colab.research.google.com/github/vnicula/ai-research-code/blob/master/algorithms/Copy_of_Explore_factorizations.ipynb\" target=\"_parent\"><img src=\"https://colab.research.google.com/assets/colab-badge.svg\" alt=\"Open In Colab\"/></a>"
      ]
    },
    {
      "cell_type": "markdown",
      "metadata": {
        "id": "ZZxhwHjOvnWF"
      },
      "source": [
        "Loading factorizations found by AlphaTensor and recombination.\n",
        "\n",
        "- Copyright 2022 DeepMind Technologies Limited\n",
        "- All software is licensed under the Apache License, Version 2.0 (Apache 2.0); you may not use this file except in compliance with the Apache 2.0 license. You may obtain a copy of the Apache 2.0 license at: https://www.apache.org/licenses/LICENSE-2.0\n",
        "- All other materials are licensed under the Creative Commons Attribution 4.0 International License (CC-BY).  You may obtain a copy of the CC-BY license at: https://creativecommons.org/licenses/by/4.0/legalcode\n",
        "- Unless required by applicable law or agreed to in writing, all software and materials distributed here under the Apache 2.0 or CC-BY licenses are distributed on an \"AS IS\" BASIS, WITHOUT WARRANTIES OR CONDITIONS OF ANY KIND, either express or implied. See the licenses for the specific language governing permissions and limitations under those licenses.\n",
        "- This is not an official Google product."
      ]
    },
    {
      "cell_type": "code",
      "execution_count": null,
      "metadata": {
        "id": "Lv32k_zmYXta"
      },
      "outputs": [],
      "source": [
        "import numpy as np\n",
        "from google.colab import files"
      ]
    },
    {
      "cell_type": "markdown",
      "metadata": {
        "id": "fpWZeG2V3ZV0"
      },
      "source": [
        "Upload one of the two files provided in the same folder: `factorization_r.npz` (algorithms in standard arithmetic) or `factorization_f2.npz` (algorithms in arithmetic modulo 2)."
      ]
    },
    {
      "cell_type": "code",
      "execution_count": null,
      "metadata": {
        "id": "FrXikWaPYO1n"
      },
      "outputs": [],
      "source": [
        "uploaded = files.upload()\n",
        "filename = list(uploaded.keys())[0]\n",
        "with open(filename, 'rb') as f:\n",
        "  factorizations = dict(np.load(f, allow_pickle=True))"
      ]
    },
    {
      "cell_type": "code",
      "execution_count": null,
      "metadata": {
        "id": "AKiXSgk0YVRn"
      },
      "outputs": [],
      "source": [
        "# Print available factorizations and their shapes.\n",
        "for key in factorizations:\n",
        "  u, v, w = factorizations[key]\n",
        "  rank = u.shape[-1]\n",
        "  assert rank == v.shape[-1] and rank == w.shape[-1]\n",
        "  print(f'{key}: rank={u.shape[-1]}')"
      ]
    },
    {
      "cell_type": "markdown",
      "metadata": {
        "id": "PDbovsIXC8-H"
      },
      "source": [
        "Please note that as provided, the factorizations decompose the *symmetrized* version of the matrix multiplication tensor, representing the bilinear operation $\\mathbf{A}, \\mathbf{B} \\mapsto (\\mathbf{A} \\cdot \\mathbf{B})^T$. This is standard in the literature, and factorizations can be easily converted\n",
        "between the symmetrized and non-symmetrized versions."
      ]
    },
    {
      "cell_type": "code",
      "execution_count": null,
      "metadata": {
        "id": "WZK9ReTpbGUu"
      },
      "outputs": [],
      "source": [
        "def get_mamu_tensor_rectangular(a: int, b: int, c: int) -> np.ndarray:\n",
        "  \"\"\"Returns the symmetrized matrix multiplication tensor T_{a, b, c}.\"\"\"\n",
        "  result = np.full((a*b, b*c, c*a), 0, dtype=np.int32)\n",
        "  for i in range(a):\n",
        "    for j in range(b):\n",
        "      for k in range(c):\n",
        "        result[i * b  + j][j * c + k][k * a + i] = 1\n",
        "  return result\n",
        "\n",
        "\n",
        "# Test correctness of a factorization.\n",
        "tensor = get_mamu_tensor_rectangular(2, 2, 3)\n",
        "u, v, w = factorizations['2,2,3']\n",
        "reconstruction = np.einsum('ir,jr,kr->ijk', u, v, w)\n",
        "if np.array_equal(tensor, reconstruction):\n",
        "  print('Factorization is correct in R (standard arithmetic).')\n",
        "elif np.array_equal(tensor, np.mod(reconstruction, 2)):\n",
        "  print('Factorization is correct in F2 (modular arithmetic).')\n",
        "else:\n",
        "  print('Factorization is incorrect.')"
      ]
    },
    {
      "cell_type": "code",
      "execution_count": null,
      "metadata": {
        "id": "75ozbYv50Aeg"
      },
      "outputs": [],
      "source": [
        "print(\"u vector:\\n\", u)"
      ]
    },
    {
      "cell_type": "code",
      "source": [
        "print(\"v vector:\\n\", v)"
      ],
      "metadata": {
        "id": "UhpHf5SfzyG7"
      },
      "execution_count": null,
      "outputs": []
    },
    {
      "cell_type": "code",
      "source": [
        "print(\"w vector:\\n\", w)"
      ],
      "metadata": {
        "id": "wbnInmeE0GDW"
      },
      "execution_count": null,
      "outputs": []
    },
    {
      "cell_type": "code",
      "source": [
        "print(tensor)"
      ],
      "metadata": {
        "id": "33BSXJI8y7NJ"
      },
      "execution_count": null,
      "outputs": []
    },
    {
      "cell_type": "code",
      "source": [
        "u0 = u[:, 0]\n",
        "v0 = v[:, 0]\n",
        "w0 = w[:, 0]\n",
        "c0 = np.einsum('i,j,k->ijk', u0, v0, w0)\n",
        "\n",
        "u1 = u[:, 1]\n",
        "v1 = v[:, 1]\n",
        "w1 = w[:, 1]\n",
        "c1 = np.einsum('i,j,k->ijk', u1, v1, w1)\n",
        "\n",
        "for i in range(0, len(u[0])):\n",
        "  print(u[:, i])\n",
        "  print(v[:, i])\n",
        "  print(w[:, i])"
      ],
      "metadata": {
        "id": "TxMnWCpS1EeC"
      },
      "execution_count": null,
      "outputs": []
    },
    {
      "cell_type": "code",
      "source": [
        "import matplotlib.colors\n",
        "import matplotlib.pyplot as plt\n",
        "import matplotlib.ticker as ticker\n",
        "from matplotlib import cm\n",
        "import numpy as np\n",
        "\n",
        "\n",
        "def explode(data):\n",
        "    size = np.array(data.shape)*2\n",
        "    data_e = np.zeros(size - 1, dtype=data.dtype)\n",
        "    data_e[::2, ::2, ::2] = data\n",
        "    return data_e\n",
        "\n",
        "def plot_tensor(n_voxels, ind=0, save=False, A=False):\n",
        "\n",
        "  facecolors = np.where(n_voxels, '#FFD65DA0', '#EEEEFF00')\n",
        "  # print(np.where(n_voxels, '#FFD65DA0', '#7A88CCA0').shape)\n",
        "  facecolors[n_voxels>2] = '#00004d70'\n",
        "  facecolors[n_voxels==2] = '#2e5dcc70'\n",
        "  facecolors[n_voxels==1] = '#5DADE270'\n",
        "  facecolors[n_voxels==-1] = '#CD615570'\n",
        "  facecolors[n_voxels==-2] = '#ff661f70'\n",
        "  facecolors[n_voxels<-2] = '#80000070'\n",
        "  facecolors[n_voxels==0] = '#EEEEFF00'\n",
        "\n",
        "  edgecolors = np.where(n_voxels!=0, '#DDDDDE30', '#CDDDDD3F')\n",
        "  filled = np.ones(n_voxels.shape)\n",
        "\n",
        "  # upscale the above voxel image, leaving gaps\n",
        "  filled_2 = explode(filled)\n",
        "  fcolors_2 = explode(facecolors)\n",
        "  ecolors_2 = explode(edgecolors)\n",
        "\n",
        "  # Shrink the gaps\n",
        "  x, y, z = np.indices(np.array(filled_2.shape) + 1).astype(float) // 2\n",
        "  x[0::2, :, :] += 0.03\n",
        "  y[:, 0::2, :] += 0.03\n",
        "  z[:, :, 0::2] += 0.03\n",
        "  x[1::2, :, :] += 0.97\n",
        "  y[:, 1::2, :] += 0.97\n",
        "  z[:, :, 1::2] += 0.97\n",
        "\n",
        "  fig = plt.figure(figsize=(11, 11))\n",
        "  ax = fig.add_subplot(projection='3d')\n",
        "  ax.set_yticklabels([])\n",
        "  ax.set_xticklabels([])\n",
        "  ax.set_zticklabels([])\n",
        "  ax.grid(False)\n",
        "  ax.xaxis.set_major_locator(ticker.MultipleLocator(1))\n",
        "  ax.yaxis.set_major_locator(ticker.MultipleLocator(1))\n",
        "  ax.zaxis.set_major_locator(ticker.MultipleLocator(1))\n",
        "\n",
        "  if A:\n",
        "    ax.set_ylabel('B')\n",
        "    ax.set_xlabel('A')\n",
        "    ax.set_zlabel('C')\n",
        "  else:\n",
        "    ax.set_ylabel('V')\n",
        "    ax.set_xlabel('U')\n",
        "    ax.set_zlabel('W')\n",
        "\n",
        "  p=ax.voxels(x, y, z, filled_2, facecolors=fcolors_2, edgecolors=ecolors_2)\n",
        "\n",
        "  # cmap = matplotlib.colors.ListedColormap(['#FF338DA0', '#FF555DA0', 'lightgray', '#55A6FFA0', '#7796FFF0']) #.with_extremes(over='purple', under='blue')\n",
        "  # bounds = [-2.0, -1.0, -0.1, 0.1, 1.0, 2.0]\n",
        "  # norm = matplotlib.colors.BoundaryNorm(bounds, cmap.N)\n",
        "  # m = cm.ScalarMappable(cmap=cmap, norm=norm)\n",
        "  # m.set_array([])\n",
        "  # fig.colorbar(\n",
        "  #     m,\n",
        "  #     ax=ax,\n",
        "  #     # extend='both',\n",
        "  #     # extendfrac='auto',\n",
        "  #     # ticks=bounds,\n",
        "  #     spacing='uniform',\n",
        "  #     orientation='vertical',\n",
        "  #     # label='Custom extension lengths, some other units',\n",
        "  #     shrink=0.7, aspect=20*0.7\n",
        "  # )\n",
        "\n",
        "  if save:\n",
        "    filename = f'frame_{ind}.png'\n",
        "    plt.savefig(filename)\n",
        "  else:\n",
        "    plt.show()\n",
        "  \n",
        "  plt.close()"
      ],
      "metadata": {
        "id": "QlwBrX0l4Zar"
      },
      "execution_count": null,
      "outputs": []
    },
    {
      "cell_type": "code",
      "source": [
        "def plot_solution(mamu, u, v, w, save=False):\n",
        "\n",
        "  current = mamu\n",
        "  for i in range(0, len(u[0])):\n",
        "    print(\"Step %d\" % i)\n",
        "    plot_tensor(current, 2*i, save, i==0)\n",
        "    c = np.einsum('i,j,k->ijk', u[:, i], v[:, i], w[:, i])\n",
        "    plot_tensor(c, 2*i+1, save)\n",
        "    current = current - c\n",
        "  plot_tensor(current, len(u[0])*2, save)\n"
      ],
      "metadata": {
        "id": "uzp9NvzP5frf"
      },
      "execution_count": null,
      "outputs": []
    },
    {
      "cell_type": "code",
      "source": [
        "tensor = get_mamu_tensor_rectangular(2, 2, 3)\n",
        "u, v, w = factorizations['2,2,3']\n",
        "plot_solution(tensor, u, v, w, False)"
      ],
      "metadata": {
        "id": "Y9mt9EVKJPNd"
      },
      "execution_count": null,
      "outputs": []
    },
    {
      "cell_type": "code",
      "source": [
        "import imageio\n",
        "import os\n",
        "with imageio.get_writer('myframes.gif', mode='I') as writer:\n",
        "    for i in range(0, len(u[0])):\n",
        "      filename = f\"frame_{i}.png\"\n",
        "      image = imageio.imread(filename)\n",
        "      writer.append_data(image)\n",
        "print('Gif saved\\n')\n"
      ],
      "metadata": {
        "id": "Z7glQZ0JPbSd"
      },
      "execution_count": null,
      "outputs": []
    },
    {
      "cell_type": "code",
      "source": [
        "for i in range(0, 2*len(u[0])+1):\n",
        "  if os.path.exists(f\"frame_{i}.png\"):\n",
        "    os.remove(f\"frame_{i}.png\")"
      ],
      "metadata": {
        "id": "wVMhI_aQTuEm"
      },
      "execution_count": null,
      "outputs": []
    },
    {
      "cell_type": "code",
      "source": [],
      "metadata": {
        "id": "RJNhL-8VWeLM"
      },
      "execution_count": null,
      "outputs": []
    }
  ],
  "metadata": {
    "colab": {
      "collapsed_sections": [],
      "private_outputs": true,
      "provenance": [],
      "include_colab_link": true
    },
    "kernelspec": {
      "display_name": "Python 3",
      "name": "python3"
    },
    "language_info": {
      "name": "python"
    }
  },
  "nbformat": 4,
  "nbformat_minor": 0
}