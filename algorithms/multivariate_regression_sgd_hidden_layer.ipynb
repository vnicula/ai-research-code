{
  "nbformat": 4,
  "nbformat_minor": 0,
  "metadata": {
    "colab": {
      "provenance": [],
      "authorship_tag": "ABX9TyM+7CPKwWEx4Sq4HYMHBt+J",
      "include_colab_link": true
    },
    "kernelspec": {
      "name": "python3",
      "display_name": "Python 3"
    },
    "language_info": {
      "name": "python"
    }
  },
  "cells": [
    {
      "cell_type": "markdown",
      "metadata": {
        "id": "view-in-github",
        "colab_type": "text"
      },
      "source": [
        "<a href=\"https://colab.research.google.com/github/vnicula/ai-research-code/blob/master/algorithms/multivariate_regression_sgd_hidden_layer.ipynb\" target=\"_parent\"><img src=\"https://colab.research.google.com/assets/colab-badge.svg\" alt=\"Open In Colab\"/></a>"
      ]
    },
    {
      "cell_type": "code",
      "execution_count": 15,
      "metadata": {
        "id": "0qj9rmt6Efz6"
      },
      "outputs": [],
      "source": [
        "import numpy as np\n",
        "import matplotlib.pyplot as plt\n",
        "import pandas as pd\n"
      ]
    },
    {
      "cell_type": "code",
      "source": [
        "df = pd.read_csv('https://raw.githubusercontent.com/satishgunjal/datasets/master/multivariate_housing_prices_in_portlans_oregon.csv')\n",
        "print(df.size)\n",
        "df.head()"
      ],
      "metadata": {
        "colab": {
          "base_uri": "https://localhost:8080/",
          "height": 223
        },
        "id": "CVqWuVnKIYFo",
        "outputId": "867af186-fd03-491e-dcd8-379ad766665e"
      },
      "execution_count": 16,
      "outputs": [
        {
          "output_type": "stream",
          "name": "stdout",
          "text": [
            "141\n"
          ]
        },
        {
          "output_type": "execute_result",
          "data": {
            "text/plain": [
              "   size(in square feet)   number of bedrooms   price\n",
              "0                  2104                    3  399900\n",
              "1                  1600                    3  329900\n",
              "2                  2400                    3  369000\n",
              "3                  1416                    2  232000\n",
              "4                  3000                    4  539900"
            ],
            "text/html": [
              "\n",
              "  <div id=\"df-d82fb384-7a2d-4efb-83ba-0e1bddef88dd\">\n",
              "    <div class=\"colab-df-container\">\n",
              "      <div>\n",
              "<style scoped>\n",
              "    .dataframe tbody tr th:only-of-type {\n",
              "        vertical-align: middle;\n",
              "    }\n",
              "\n",
              "    .dataframe tbody tr th {\n",
              "        vertical-align: top;\n",
              "    }\n",
              "\n",
              "    .dataframe thead th {\n",
              "        text-align: right;\n",
              "    }\n",
              "</style>\n",
              "<table border=\"1\" class=\"dataframe\">\n",
              "  <thead>\n",
              "    <tr style=\"text-align: right;\">\n",
              "      <th></th>\n",
              "      <th>size(in square feet)</th>\n",
              "      <th>number of bedrooms</th>\n",
              "      <th>price</th>\n",
              "    </tr>\n",
              "  </thead>\n",
              "  <tbody>\n",
              "    <tr>\n",
              "      <th>0</th>\n",
              "      <td>2104</td>\n",
              "      <td>3</td>\n",
              "      <td>399900</td>\n",
              "    </tr>\n",
              "    <tr>\n",
              "      <th>1</th>\n",
              "      <td>1600</td>\n",
              "      <td>3</td>\n",
              "      <td>329900</td>\n",
              "    </tr>\n",
              "    <tr>\n",
              "      <th>2</th>\n",
              "      <td>2400</td>\n",
              "      <td>3</td>\n",
              "      <td>369000</td>\n",
              "    </tr>\n",
              "    <tr>\n",
              "      <th>3</th>\n",
              "      <td>1416</td>\n",
              "      <td>2</td>\n",
              "      <td>232000</td>\n",
              "    </tr>\n",
              "    <tr>\n",
              "      <th>4</th>\n",
              "      <td>3000</td>\n",
              "      <td>4</td>\n",
              "      <td>539900</td>\n",
              "    </tr>\n",
              "  </tbody>\n",
              "</table>\n",
              "</div>\n",
              "      <button class=\"colab-df-convert\" onclick=\"convertToInteractive('df-d82fb384-7a2d-4efb-83ba-0e1bddef88dd')\"\n",
              "              title=\"Convert this dataframe to an interactive table.\"\n",
              "              style=\"display:none;\">\n",
              "        \n",
              "  <svg xmlns=\"http://www.w3.org/2000/svg\" height=\"24px\"viewBox=\"0 0 24 24\"\n",
              "       width=\"24px\">\n",
              "    <path d=\"M0 0h24v24H0V0z\" fill=\"none\"/>\n",
              "    <path d=\"M18.56 5.44l.94 2.06.94-2.06 2.06-.94-2.06-.94-.94-2.06-.94 2.06-2.06.94zm-11 1L8.5 8.5l.94-2.06 2.06-.94-2.06-.94L8.5 2.5l-.94 2.06-2.06.94zm10 10l.94 2.06.94-2.06 2.06-.94-2.06-.94-.94-2.06-.94 2.06-2.06.94z\"/><path d=\"M17.41 7.96l-1.37-1.37c-.4-.4-.92-.59-1.43-.59-.52 0-1.04.2-1.43.59L10.3 9.45l-7.72 7.72c-.78.78-.78 2.05 0 2.83L4 21.41c.39.39.9.59 1.41.59.51 0 1.02-.2 1.41-.59l7.78-7.78 2.81-2.81c.8-.78.8-2.07 0-2.86zM5.41 20L4 18.59l7.72-7.72 1.47 1.35L5.41 20z\"/>\n",
              "  </svg>\n",
              "      </button>\n",
              "      \n",
              "  <style>\n",
              "    .colab-df-container {\n",
              "      display:flex;\n",
              "      flex-wrap:wrap;\n",
              "      gap: 12px;\n",
              "    }\n",
              "\n",
              "    .colab-df-convert {\n",
              "      background-color: #E8F0FE;\n",
              "      border: none;\n",
              "      border-radius: 50%;\n",
              "      cursor: pointer;\n",
              "      display: none;\n",
              "      fill: #1967D2;\n",
              "      height: 32px;\n",
              "      padding: 0 0 0 0;\n",
              "      width: 32px;\n",
              "    }\n",
              "\n",
              "    .colab-df-convert:hover {\n",
              "      background-color: #E2EBFA;\n",
              "      box-shadow: 0px 1px 2px rgba(60, 64, 67, 0.3), 0px 1px 3px 1px rgba(60, 64, 67, 0.15);\n",
              "      fill: #174EA6;\n",
              "    }\n",
              "\n",
              "    [theme=dark] .colab-df-convert {\n",
              "      background-color: #3B4455;\n",
              "      fill: #D2E3FC;\n",
              "    }\n",
              "\n",
              "    [theme=dark] .colab-df-convert:hover {\n",
              "      background-color: #434B5C;\n",
              "      box-shadow: 0px 1px 3px 1px rgba(0, 0, 0, 0.15);\n",
              "      filter: drop-shadow(0px 1px 2px rgba(0, 0, 0, 0.3));\n",
              "      fill: #FFFFFF;\n",
              "    }\n",
              "  </style>\n",
              "\n",
              "      <script>\n",
              "        const buttonEl =\n",
              "          document.querySelector('#df-d82fb384-7a2d-4efb-83ba-0e1bddef88dd button.colab-df-convert');\n",
              "        buttonEl.style.display =\n",
              "          google.colab.kernel.accessAllowed ? 'block' : 'none';\n",
              "\n",
              "        async function convertToInteractive(key) {\n",
              "          const element = document.querySelector('#df-d82fb384-7a2d-4efb-83ba-0e1bddef88dd');\n",
              "          const dataTable =\n",
              "            await google.colab.kernel.invokeFunction('convertToInteractive',\n",
              "                                                     [key], {});\n",
              "          if (!dataTable) return;\n",
              "\n",
              "          const docLinkHtml = 'Like what you see? Visit the ' +\n",
              "            '<a target=\"_blank\" href=https://colab.research.google.com/notebooks/data_table.ipynb>data table notebook</a>'\n",
              "            + ' to learn more about interactive tables.';\n",
              "          element.innerHTML = '';\n",
              "          dataTable['output_type'] = 'display_data';\n",
              "          await google.colab.output.renderOutput(dataTable, element);\n",
              "          const docLink = document.createElement('div');\n",
              "          docLink.innerHTML = docLinkHtml;\n",
              "          element.appendChild(docLink);\n",
              "        }\n",
              "      </script>\n",
              "    </div>\n",
              "  </div>\n",
              "  "
            ]
          },
          "metadata": {},
          "execution_count": 16
        }
      ]
    },
    {
      "cell_type": "code",
      "source": [
        "X_train = df.iloc[:, 0:2].values\n",
        "# print(np.std(X_train, axis=0, keepdims=True)[:3])\n",
        "Y_train = np.expand_dims(df.iloc[:, 2].values, 1)\n",
        "X_train = (X_train - X_train.mean(axis=0, keepdims=True)) / np.std(X_train, axis=0, keepdims=True)\n",
        "print(X_train[:3], Y_train[:3])\n"
      ],
      "metadata": {
        "colab": {
          "base_uri": "https://localhost:8080/"
        },
        "id": "cXt1c9leIacW",
        "outputId": "53ed4351-71d6-4424-d11f-1ec1d47408af"
      },
      "execution_count": 17,
      "outputs": [
        {
          "output_type": "stream",
          "name": "stdout",
          "text": [
            "[[ 0.13141542 -0.22609337]\n",
            " [-0.5096407  -0.22609337]\n",
            " [ 0.5079087  -0.22609337]] [[399900]\n",
            " [329900]\n",
            " [369000]]\n"
          ]
        }
      ]
    },
    {
      "cell_type": "code",
      "source": [
        "def init_weights():\n",
        "  W1 = np.random.normal(loc=0, scale=0.1, size=[3, 2])\n",
        "  B1 = np.random.normal(loc=0, scale=0.1, size=[3, 1])\n",
        "  W2 = np.random.normal(loc=0, scale=0.1, size=[1, 3])\n",
        "  B2 = np.random.normal(loc=0, scale=0.1, size=[1, 1])\n",
        "  return W1, B1, W2, B2\n",
        "\n",
        "# print(init_weights())"
      ],
      "metadata": {
        "id": "eXlN2RTVI1SE"
      },
      "execution_count": 39,
      "outputs": []
    },
    {
      "cell_type": "code",
      "source": [
        "def ReLU(z):\n",
        "  return np.maximum(z, 0)\n",
        "\n",
        "def loss(Y, Yh):\n",
        "  return 0.5*(Y-Yh)**2\n",
        "\n",
        "def forward_pass(X, W1, B1, W2, B2):\n",
        "  Z1 = W1.dot(X) + B1 # (3, 1)\n",
        "  A1 = ReLU(Z1)       # (3, 1)\n",
        "  O = W2.dot(A1) + B2 # (1, 1)\n",
        "  return Z1, A1, O\n"
      ],
      "metadata": {
        "id": "PDm5DBmfI2sU"
      },
      "execution_count": 19,
      "outputs": []
    },
    {
      "cell_type": "code",
      "source": [
        "def backward_pass(X, Y, Z1, A1, O, W1, B1, W2, B2):\n",
        "  # last layer\n",
        "  dL_O = O - Y # (1, 1)\n",
        "  dO_W2 = A1   # (3, 1)\n",
        "  gW2 = dL_O.dot(A1.T)\n",
        "  gB2 = dL_O\n",
        "\n",
        "  # hidden layer\n",
        "  # local gradient dO_Z1 = dO_A1 * dA1_Z1\n",
        "  dO_A1 = W2   # (1, 3)\n",
        "  dA1_Z1 = (Z1 > 0) * 1.0  # (3, 1)\n",
        "  delta2 = dL_O.dot(W2 * dA1_Z1.T) # (1,3)\n",
        "  gW1 = delta2.T.dot(X.T)\n",
        "  gB1 = delta2.T\n",
        "\n",
        "  return gW1, gB1, gW2, gB2"
      ],
      "metadata": {
        "id": "EqeHs8coOHfv"
      },
      "execution_count": 20,
      "outputs": []
    },
    {
      "cell_type": "code",
      "source": [
        "def train_step(X, Y, W1, B1, W2, B2, steps, lr):\n",
        "  num_samples = X.T.shape[1]\n",
        "  print(f\"num_samples={num_samples}\")\n",
        "\n",
        "  for i in range(steps):\n",
        "    losses = []\n",
        "    for j in range(num_samples):\n",
        "      sample = X[j].reshape([2,1])\n",
        "      y = Y[j] / 10000.0\n",
        "      Z1, A1, O = forward_pass(sample, W1, B1, W2, B2)\n",
        "      # print(j, O)\n",
        "      losses.append(loss(y, O))\n",
        "      gW1, gB1, gW2, gB2 = backward_pass(sample, y, Z1, A1, O, W1, B1, W2, B2)\n",
        "      # print(gW1)\n",
        "      W1 -= lr*gW1\n",
        "      B1 -= lr*gB1\n",
        "      W2 -= lr*gW2\n",
        "      B2 -= lr*gB2\n",
        "    \n",
        "    print(\"Avg loss: \", np.mean(losses))\n",
        "\n"
      ],
      "metadata": {
        "id": "JwszCdpOKvxp"
      },
      "execution_count": 42,
      "outputs": []
    },
    {
      "cell_type": "code",
      "source": [
        "W1, B1, W2, B2 = init_weights()\n",
        "train_step(X_train, Y_train, W1, B1, W2, B2, 100, 0.0005)"
      ],
      "metadata": {
        "id": "8_qV_6lBLRni",
        "outputId": "5942439e-e578-4ba6-d628-f39b56ebb242",
        "colab": {
          "base_uri": "https://localhost:8080/"
        }
      },
      "execution_count": 48,
      "outputs": [
        {
          "output_type": "stream",
          "name": "stdout",
          "text": [
            "num_samples=47\n",
            "Avg loss:  647.1850909270091\n",
            "Avg loss:  619.5771874749701\n",
            "Avg loss:  589.1623800331807\n",
            "Avg loss:  543.7328618005012\n",
            "Avg loss:  442.13557753857526\n",
            "Avg loss:  244.31388251262922\n",
            "Avg loss:  77.42194022456665\n",
            "Avg loss:  30.41262574278315\n",
            "Avg loss:  23.791683535792764\n",
            "Avg loss:  22.54558331961193\n",
            "Avg loss:  22.101925696995444\n",
            "Avg loss:  21.888253656436067\n",
            "Avg loss:  21.777179570859563\n",
            "Avg loss:  21.71754064438697\n",
            "Avg loss:  21.68464327837018\n",
            "Avg loss:  21.6659149103483\n",
            "Avg loss:  21.655445315627713\n",
            "Avg loss:  21.64923447523288\n",
            "Avg loss:  21.645226725107133\n",
            "Avg loss:  21.642500664664166\n",
            "Avg loss:  21.64038240218936\n",
            "Avg loss:  21.638877796549842\n",
            "Avg loss:  21.637603621857735\n",
            "Avg loss:  21.636493976462432\n",
            "Avg loss:  21.636245025891334\n",
            "Avg loss:  21.634539620767306\n",
            "Avg loss:  21.634477257520967\n",
            "Avg loss:  21.63292382225713\n",
            "Avg loss:  21.632946940990703\n",
            "Avg loss:  21.631409278450334\n",
            "Avg loss:  21.631444877531134\n",
            "Avg loss:  21.62990215379351\n",
            "Avg loss:  21.629955579101605\n",
            "Avg loss:  21.628408056515042\n",
            "Avg loss:  21.62847767899951\n",
            "Avg loss:  21.627690519050763\n",
            "Avg loss:  21.626944809430753\n",
            "Avg loss:  21.626211705708492\n",
            "Avg loss:  21.624714857975636\n",
            "Avg loss:  21.62479917678446\n",
            "Avg loss:  21.6240505871489\n",
            "Avg loss:  21.623302307458474\n",
            "Avg loss:  21.62256272753818\n",
            "Avg loss:  21.620989407060396\n",
            "Avg loss:  21.621111978480293\n",
            "Avg loss:  21.620376881425837\n",
            "Avg loss:  21.619621039870424\n",
            "Avg loss:  21.61887342573763\n",
            "Avg loss:  21.61812714180751\n",
            "Avg loss:  21.616518786757545\n",
            "Avg loss:  21.61660941170955\n",
            "Avg loss:  21.615911620292987\n",
            "Avg loss:  21.61514763173071\n",
            "Avg loss:  21.614390819923223\n",
            "Avg loss:  21.61363521886118\n",
            "Avg loss:  21.612879294723875\n",
            "Avg loss:  21.611266108944164\n",
            "Avg loss:  21.61135171657289\n",
            "Avg loss:  21.610631290777988\n",
            "Avg loss:  21.609870521658934\n",
            "Avg loss:  21.60910379961764\n",
            "Avg loss:  21.60833647395067\n",
            "Avg loss:  21.607569003215286\n",
            "Avg loss:  21.606801175214905\n",
            "Avg loss:  21.606032773857926\n",
            "Avg loss:  21.60526365096269\n",
            "Avg loss:  21.60449371406419\n",
            "Avg loss:  21.602785990548895\n",
            "Avg loss:  21.602927925526636\n",
            "Avg loss:  21.602196618764374\n",
            "Avg loss:  21.601422207876706\n",
            "Avg loss:  21.600641734110415\n",
            "Avg loss:  21.59986101168158\n",
            "Avg loss:  21.599080572748598\n",
            "Avg loss:  21.598300216162574\n",
            "Avg loss:  21.597519730725104\n",
            "Avg loss:  21.596738975001504\n",
            "Avg loss:  21.595957865394507\n",
            "Avg loss:  21.595176359108493\n",
            "Avg loss:  21.594394441865134\n",
            "Avg loss:  21.59256929960536\n",
            "Avg loss:  21.59279116537796\n",
            "Avg loss:  21.592053194053808\n",
            "Avg loss:  21.59126872173736\n",
            "Avg loss:  21.59047825774126\n",
            "Avg loss:  21.589688209395224\n",
            "Avg loss:  21.588899190454374\n",
            "Avg loss:  21.58811100203342\n",
            "Avg loss:  21.58732342933229\n",
            "Avg loss:  21.58653633134186\n",
            "Avg loss:  21.585428228045853\n",
            "Avg loss:  21.5846544169289\n",
            "Avg loss:  21.58396160606686\n",
            "Avg loss:  21.583291510039917\n",
            "Avg loss:  21.583159662474483\n",
            "Avg loss:  21.582267321561194\n",
            "Avg loss:  21.581555351638222\n",
            "Avg loss:  21.58088300597117\n",
            "Avg loss:  21.58022078636302\n",
            "Avg loss:  21.579561278205915\n"
          ]
        }
      ]
    },
    {
      "cell_type": "code",
      "source": [],
      "metadata": {
        "id": "-zg6YjMqOXAK"
      },
      "execution_count": null,
      "outputs": []
    }
  ]
}